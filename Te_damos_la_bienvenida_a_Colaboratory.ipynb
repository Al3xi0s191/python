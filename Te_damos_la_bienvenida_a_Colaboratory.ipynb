{
  "cells": [
    {
      "cell_type": "markdown",
      "metadata": {
        "id": "view-in-github",
        "colab_type": "text"
      },
      "source": [
        "<a href=\"https://colab.research.google.com/github/Al3xi0s191/python/blob/main/Te_damos_la_bienvenida_a_Colaboratory.ipynb\" target=\"_parent\"><img src=\"https://colab.research.google.com/assets/colab-badge.svg\" alt=\"Open In Colab\"/></a>"
      ]
    },
    {
      "cell_type": "code",
      "source": [
        "!help"
      ],
      "metadata": {
        "collapsed": true,
        "colab": {
          "base_uri": "https://localhost:8080/"
        },
        "id": "VWTv0fauPnPN",
        "outputId": "9cc48d85-b11b-40bd-99d1-d86cf9f03d96"
      },
      "execution_count": 1,
      "outputs": [
        {
          "output_type": "stream",
          "name": "stdout",
          "text": [
            "GNU bash, version 5.1.16(1)-release (x86_64-pc-linux-gnu)\n",
            "These shell commands are defined internally.  Type `help' to see this list.\n",
            "Type `help name' to find out more about the function `name'.\n",
            "Use `info bash' to find out more about the shell in general.\n",
            "Use `man -k' or `info' to find out more about commands not in this list.\n",
            "\n",
            "A star (*) next to a name means that the command is disabled.\n",
            "\n",
            " job_spec [&]                            history [-c] [-d offset] [n] or hist>\n",
            " (( expression ))                        if COMMANDS; then COMMANDS; [ elif C>\n",
            " . filename [arguments]                  jobs [-lnprs] [jobspec ...] or jobs >\n",
            " :                                       kill [-s sigspec | -n signum | -sigs>\n",
            " [ arg... ]                              let arg [arg ...]\n",
            " [[ expression ]]                        local [option] name[=value] ...\n",
            " alias [-p] [name[=value] ... ]          logout [n]\n",
            " bg [job_spec ...]                       mapfile [-d delim] [-n count] [-O or>\n",
            " bind [-lpsvPSVX] [-m keymap] [-f file>  popd [-n] [+N | -N]\n",
            " break [n]                               printf [-v var] format [arguments]\n",
            " builtin [shell-builtin [arg ...]]       pushd [-n] [+N | -N | dir]\n",
            " caller [expr]                           pwd [-LP]\n",
            " case WORD in [PATTERN [| PATTERN]...)>  read [-ers] [-a array] [-d delim] [->\n",
            " cd [-L|[-P [-e]] [-@]] [dir]            readarray [-d delim] [-n count] [-O >\n",
            " command [-pVv] command [arg ...]        readonly [-aAf] [name[=value] ...] o>\n",
            " compgen [-abcdefgjksuv] [-o option] [>  return [n]\n",
            " complete [-abcdefgjksuv] [-pr] [-DEI]>  select NAME [in WORDS ... ;] do COMM>\n",
            " compopt [-o|+o option] [-DEI] [name .>  set [-abefhkmnptuvxBCHP] [-o option->\n",
            " continue [n]                            shift [n]\n",
            " coproc [NAME] command [redirections]    shopt [-pqsu] [-o] [optname ...]\n",
            " declare [-aAfFgiIlnrtux] [-p] [name[=>  source filename [arguments]\n",
            " dirs [-clpv] [+N] [-N]                  suspend [-f]\n",
            " disown [-h] [-ar] [jobspec ... | pid >  test [expr]\n",
            " echo [-neE] [arg ...]                   time [-p] pipeline\n",
            " enable [-a] [-dnps] [-f filename] [na>  times\n",
            " eval [arg ...]                          trap [-lp] [[arg] signal_spec ...]\n",
            " exec [-cl] [-a name] [command [argume>  true\n",
            " exit [n]                                type [-afptP] name [name ...]\n",
            " export [-fn] [name[=value] ...] or ex>  typeset [-aAfFgiIlnrtux] [-p] name[=>\n",
            " false                                   ulimit [-SHabcdefiklmnpqrstuvxPT] [l>\n",
            " fc [-e ename] [-lnr] [first] [last] o>  umask [-p] [-S] [mode]\n",
            " fg [job_spec]                           unalias [-a] name [name ...]\n",
            " for NAME [in WORDS ... ] ; do COMMAND>  unset [-f] [-v] [-n] [name ...]\n",
            " for (( exp1; exp2; exp3 )); do COMMAN>  until COMMANDS; do COMMANDS; done\n",
            " function name { COMMANDS ; } or name >  variables - Names and meanings of so>\n",
            " getopts optstring name [arg ...]        wait [-fn] [-p var] [id ...]\n",
            " hash [-lr] [-p pathname] [-dt] [name >  while COMMANDS; do COMMANDS; done\n",
            " help [-dms] [pattern ...]               { COMMANDS ; }\n"
          ]
        }
      ]
    },
    {
      "cell_type": "code",
      "source": [
        "man find"
      ],
      "metadata": {
        "id": "7KMxPWV6Pyis"
      },
      "execution_count": 2,
      "outputs": []
    },
    {
      "cell_type": "code",
      "source": [
        "!find / -name '*.ipynb'"
      ],
      "metadata": {
        "collapsed": true,
        "colab": {
          "base_uri": "https://localhost:8080/"
        },
        "id": "XngJjc_DP6M9",
        "outputId": "562e1c24-39a9-44e2-b5e2-b05723866461"
      },
      "execution_count": 3,
      "outputs": [
        {
          "output_type": "stream",
          "name": "stdout",
          "text": [
            "/opt/nvidia/nsight-compute/2024.2.1/host/target-linux-x64/python/packages/nsys_recipe/recipes/gpu_time_util/analysis.ipynb\n",
            "/opt/nvidia/nsight-compute/2024.2.1/host/target-linux-x64/python/packages/nsys_recipe/recipes/gpu_metric_util_map/heatmap.ipynb\n",
            "/opt/nvidia/nsight-compute/2024.2.1/host/target-linux-x64/python/packages/nsys_recipe/recipes/diff/diff.ipynb\n",
            "/opt/nvidia/nsight-compute/2024.2.1/host/target-linux-x64/python/packages/nsys_recipe/recipes/cuda_memcpy_async/analysis.ipynb\n",
            "/opt/nvidia/nsight-compute/2024.2.1/host/target-linux-x64/python/packages/nsys_recipe/recipes/cuda_memcpy_sync/analysis.ipynb\n",
            "/opt/nvidia/nsight-compute/2024.2.1/host/target-linux-x64/python/packages/nsys_recipe/recipes/mpi_gpu_time_util_map/heatmap.ipynb\n",
            "/opt/nvidia/nsight-compute/2024.2.1/host/target-linux-x64/python/packages/nsys_recipe/recipes/network_traffic_map/heatmap.ipynb\n",
            "/opt/nvidia/nsight-compute/2024.2.1/host/target-linux-x64/python/packages/nsys_recipe/recipes/nvtx_sum/stats.ipynb\n",
            "/opt/nvidia/nsight-compute/2024.2.1/host/target-linux-x64/python/packages/nsys_recipe/recipes/osrt_sum/stats.ipynb\n",
            "/opt/nvidia/nsight-compute/2024.2.1/host/target-linux-x64/python/packages/nsys_recipe/recipes/cuda_gpu_mem_time_sum/stats.ipynb\n",
            "/opt/nvidia/nsight-compute/2024.2.1/host/target-linux-x64/python/packages/nsys_recipe/recipes/dx12_mem_ops/analysis.ipynb\n",
            "/opt/nvidia/nsight-compute/2024.2.1/host/target-linux-x64/python/packages/nsys_recipe/recipes/nccl_gpu_proj_sum/stats.ipynb\n",
            "/opt/nvidia/nsight-compute/2024.2.1/host/target-linux-x64/python/packages/nsys_recipe/recipes/cuda_gpu_kern_sum/stats.ipynb\n",
            "/opt/nvidia/nsight-compute/2024.2.1/host/target-linux-x64/python/packages/nsys_recipe/recipes/nvtx_gpu_proj_trace/trace.ipynb\n",
            "/opt/nvidia/nsight-compute/2024.2.1/host/target-linux-x64/python/packages/nsys_recipe/recipes/nccl_gpu_overlap_trace/trace.ipynb\n",
            "/opt/nvidia/nsight-compute/2024.2.1/host/target-linux-x64/python/packages/nsys_recipe/recipes/nvtx_pace/pace.ipynb\n",
            "/opt/nvidia/nsight-compute/2024.2.1/host/target-linux-x64/python/packages/nsys_recipe/recipes/cuda_memset_sync/analysis.ipynb\n",
            "/opt/nvidia/nsight-compute/2024.2.1/host/target-linux-x64/python/packages/nsys_recipe/recipes/cuda_gpu_mem_size_sum/stats.ipynb\n",
            "/opt/nvidia/nsight-compute/2024.2.1/host/target-linux-x64/python/packages/nsys_recipe/recipes/nvtx_gpu_proj_pace/pace.ipynb\n",
            "/opt/nvidia/nsight-compute/2024.2.1/host/target-linux-x64/python/packages/nsys_recipe/recipes/cuda_gpu_kern_pace/pace.ipynb\n",
            "/opt/nvidia/nsight-compute/2024.2.1/host/target-linux-x64/python/packages/nsys_recipe/recipes/ucx_gpu_time_util_map/heatmap.ipynb\n",
            "/opt/nvidia/nsight-compute/2024.2.1/host/target-linux-x64/python/packages/nsys_recipe/recipes/cuda_api_sync/analysis.ipynb\n",
            "/opt/nvidia/nsight-compute/2024.2.1/host/target-linux-x64/python/packages/nsys_recipe/recipes/nccl_gpu_time_util_map/heatmap.ipynb\n",
            "/opt/nvidia/nsight-compute/2024.2.1/host/target-linux-x64/python/packages/nsys_recipe/recipes/mpi_sum/stats.ipynb\n",
            "/opt/nvidia/nsight-compute/2024.2.1/host/target-linux-x64/python/packages/nsys_recipe/recipes/nvtx_gpu_proj_sum/topN.ipynb\n",
            "/opt/nvidia/nsight-compute/2024.2.1/host/target-linux-x64/python/packages/nsys_recipe/recipes/nvtx_gpu_proj_sum/stats.ipynb\n",
            "/opt/nvidia/nsight-compute/2024.2.1/host/target-linux-x64/python/packages/nsys_recipe/recipes/cuda_gpu_time_util_map/heatmap.ipynb\n",
            "/opt/nvidia/nsight-compute/2024.2.1/host/target-linux-x64/python/packages/nsys_recipe/recipes/cuda_api_sum/stats.ipynb\n",
            "/opt/nvidia/nsight-compute/2024.2.1/host/target-linux-x64/python/packages/nsys_recipe/recipes/gpu_gaps/analysis.ipynb\n",
            "/opt/nvidia/nsight-compute/2024.2.1/host/target-linux-x64/python/packages/nsys_recipe/recipes/nccl_sum/stats.ipynb\n",
            "find: ‘/proc/65/task/65/net’: Invalid argument\n",
            "find: ‘/proc/65/net’: Invalid argument\n",
            "/root/.julia/packages/GR/s7T1Y/examples/anim.ipynb\n",
            "/root/.julia/packages/GR/s7T1Y/examples/clifford_attractor.ipynb\n",
            "/root/.julia/packages/GR/s7T1Y/examples/faster-time-to-first-plot.ipynb\n",
            "/root/.julia/packages/GR/s7T1Y/examples/covid19.ipynb\n",
            "/root/.julia/packages/GR/s7T1Y/examples/line_plot.ipynb\n",
            "/root/.julia/packages/Interpolations/dR5oF/doc/Interpolations.jl.ipynb\n",
            "/root/.julia/packages/Interpolations/dR5oF/doc/Plotting examples.ipynb\n",
            "/usr/local/lib/python3.12/dist-packages/nbclassic/bundler/tests/resources/empty.ipynb\n",
            "/usr/local/lib/python3.12/dist-packages/notebook/bundler/tests/resources/empty.ipynb\n",
            "/usr/local/lib/python3.12/dist-packages/panel/tests/ui/io/app.ipynb\n",
            "/usr/local/lib/python3.12/dist-packages/flax/core/flax_functional_engine.ipynb\n",
            "/usr/local/lib/python3.12/dist-packages/libpysal/cg/tests/fast_point_in_polygon_algorithm.ipynb\n",
            "/usr/local/lib/python3.12/dist-packages/cuml/experimental/hyperparams/HPO_demo.ipynb\n",
            "/usr/local/lib/python3.12/dist-packages/holoviews/tests/ipython/notebooks/test_opts_image_cell_magic.ipynb\n",
            "/usr/local/lib/python3.12/dist-packages/holoviews/tests/ipython/notebooks/test_output_svg_line_magic.ipynb\n",
            "/usr/local/lib/python3.12/dist-packages/holoviews/tests/ipython/notebooks/test_opts_image_line_magic.ipynb\n",
            "/usr/local/lib/python3.12/dist-packages/holoviews/tests/ipython/notebooks/test_opts_image_cell_magic_offset.ipynb\n",
            "/usr/local/lib/python3.12/dist-packages/holoviews/examples/user_guide/11-Transforming_Elements.ipynb\n",
            "/usr/local/lib/python3.12/dist-packages/holoviews/examples/user_guide/Geometry_Data.ipynb\n",
            "/usr/local/lib/python3.12/dist-packages/holoviews/examples/user_guide/Exporting_and_Archiving.ipynb\n",
            "/usr/local/lib/python3.12/dist-packages/holoviews/examples/user_guide/Continuous_Coordinates.ipynb\n",
            "/usr/local/lib/python3.12/dist-packages/holoviews/examples/user_guide/Network_Graphs.ipynb\n",
            "/usr/local/lib/python3.12/dist-packages/holoviews/examples/user_guide/02-Composing_Elements.ipynb\n",
            "/usr/local/lib/python3.12/dist-packages/holoviews/examples/user_guide/Plotting_with_Bokeh.ipynb\n",
            "/usr/local/lib/python3.12/dist-packages/holoviews/examples/user_guide/Plotting_with_Matplotlib.ipynb\n",
            "/usr/local/lib/python3.12/dist-packages/holoviews/examples/user_guide/05-Dimensioned_Containers.ipynb\n",
            "/usr/local/lib/python3.12/dist-packages/holoviews/examples/user_guide/Interactive_Hover_for_Big_Data.ipynb\n",
            "/usr/local/lib/python3.12/dist-packages/holoviews/examples/user_guide/17-Dashboards.ipynb\n",
            "/usr/local/lib/python3.12/dist-packages/holoviews/examples/user_guide/08-Tabular_Datasets.ipynb\n",
            "/usr/local/lib/python3.12/dist-packages/holoviews/examples/user_guide/14-Data_Pipelines.ipynb\n",
            "/usr/local/lib/python3.12/dist-packages/holoviews/examples/user_guide/Linked_Brushing.ipynb\n",
            "/usr/local/lib/python3.12/dist-packages/holoviews/examples/user_guide/16-Streaming_Data.ipynb\n",
            "/usr/local/lib/python3.12/dist-packages/holoviews/examples/user_guide/Plots_and_Renderers.ipynb\n",
            "/usr/local/lib/python3.12/dist-packages/holoviews/examples/user_guide/04-Style_Mapping.ipynb\n",
            "/usr/local/lib/python3.12/dist-packages/holoviews/examples/user_guide/12-Responding_to_Events.ipynb\n",
            "/usr/local/lib/python3.12/dist-packages/holoviews/examples/user_guide/09-Gridded_Datasets.ipynb\n",
            "/usr/local/lib/python3.12/dist-packages/holoviews/examples/user_guide/13-Custom_Interactivity.ipynb\n",
            "/usr/local/lib/python3.12/dist-packages/holoviews/examples/user_guide/Colormaps.ipynb\n",
            "/usr/local/lib/python3.12/dist-packages/holoviews/examples/user_guide/Deploying_Bokeh_Apps.ipynb\n",
            "/usr/local/lib/python3.12/dist-packages/holoviews/examples/user_guide/06-Building_Composite_Objects.ipynb\n",
            "/usr/local/lib/python3.12/dist-packages/holoviews/examples/user_guide/15-Large_Data.ipynb\n",
            "/usr/local/lib/python3.12/dist-packages/holoviews/examples/user_guide/Notebook_Magics.ipynb\n",
            "/usr/local/lib/python3.12/dist-packages/holoviews/examples/user_guide/Linking_Plots.ipynb\n",
            "/usr/local/lib/python3.12/dist-packages/holoviews/examples/user_guide/10-Indexing_and_Selecting_Data.ipynb\n",
            "/usr/local/lib/python3.12/dist-packages/holoviews/examples/user_guide/Customizing_Plots.ipynb\n",
            "/usr/local/lib/python3.12/dist-packages/holoviews/examples/user_guide/03-Applying_Customizations.ipynb\n",
            "/usr/local/lib/python3.12/dist-packages/holoviews/examples/user_guide/07-Live_Data.ipynb\n",
            "/usr/local/lib/python3.12/dist-packages/holoviews/examples/user_guide/01-Annotating_Data.ipynb\n",
            "/usr/local/lib/python3.12/dist-packages/holoviews/examples/user_guide/Annotators.ipynb\n",
            "/usr/local/lib/python3.12/dist-packages/holoviews/examples/getting_started/5-Live_Data.ipynb\n",
            "/usr/local/lib/python3.12/dist-packages/holoviews/examples/getting_started/4-Gridded_Datasets.ipynb\n",
            "/usr/local/lib/python3.12/dist-packages/holoviews/examples/getting_started/2-Customization.ipynb\n",
            "/usr/local/lib/python3.12/dist-packages/holoviews/examples/getting_started/3-Tabular_Datasets.ipynb\n",
            "/usr/local/lib/python3.12/dist-packages/holoviews/examples/getting_started/1-Introduction.ipynb\n",
            "/usr/local/lib/python3.12/dist-packages/holoviews/examples/gallery/demos/matplotlib/iris_grouped_grid.ipynb\n",
            "/usr/local/lib/python3.12/dist-packages/holoviews/examples/gallery/demos/matplotlib/irregular_quadmesh.ipynb\n",
            "/usr/local/lib/python3.12/dist-packages/holoviews/examples/gallery/demos/matplotlib/bars_economic.ipynb\n",
            "/usr/local/lib/python3.12/dist-packages/holoviews/examples/gallery/demos/matplotlib/mandelbrot_section.ipynb\n",
            "/usr/local/lib/python3.12/dist-packages/holoviews/examples/gallery/demos/matplotlib/boxplot_chart.ipynb\n",
            "/usr/local/lib/python3.12/dist-packages/holoviews/examples/gallery/demos/matplotlib/step_chart.ipynb\n",
            "/usr/local/lib/python3.12/dist-packages/holoviews/examples/gallery/demos/matplotlib/iris_splom_example.ipynb\n",
            "/usr/local/lib/python3.12/dist-packages/holoviews/examples/gallery/demos/matplotlib/measles_example.ipynb\n",
            "/usr/local/lib/python3.12/dist-packages/holoviews/examples/gallery/demos/matplotlib/iris_example.ipynb\n",
            "/usr/local/lib/python3.12/dist-packages/holoviews/examples/gallery/demos/matplotlib/nyc_airport_connections.ipynb\n",
            "/usr/local/lib/python3.12/dist-packages/holoviews/examples/gallery/demos/matplotlib/surface_3d.ipynb\n",
            "/usr/local/lib/python3.12/dist-packages/holoviews/examples/gallery/demos/matplotlib/network_graph.ipynb\n",
            "/usr/local/lib/python3.12/dist-packages/holoviews/examples/gallery/demos/matplotlib/lorenz_attractor_example.ipynb\n",
            "/usr/local/lib/python3.12/dist-packages/holoviews/examples/gallery/demos/matplotlib/polar_scatter_demo.ipynb\n",
            "/usr/local/lib/python3.12/dist-packages/holoviews/examples/gallery/demos/matplotlib/bachelors_degrees_by_gender.ipynb\n",
            "/usr/local/lib/python3.12/dist-packages/holoviews/examples/gallery/demos/matplotlib/legend_example.ipynb\n",
            "/usr/local/lib/python3.12/dist-packages/holoviews/examples/gallery/demos/matplotlib/scatter_economic.ipynb\n",
            "/usr/local/lib/python3.12/dist-packages/holoviews/examples/gallery/demos/matplotlib/verhulst_mandelbrot.ipynb\n",
            "/usr/local/lib/python3.12/dist-packages/holoviews/examples/gallery/demos/matplotlib/dropdown_economic.ipynb\n",
            "/usr/local/lib/python3.12/dist-packages/holoviews/examples/gallery/demos/matplotlib/texas_choropleth_example.ipynb\n",
            "/usr/local/lib/python3.12/dist-packages/holoviews/examples/gallery/demos/matplotlib/histogram_example.ipynb\n",
            "/usr/local/lib/python3.12/dist-packages/holoviews/examples/gallery/demos/matplotlib/stocks_example.ipynb\n",
            "/usr/local/lib/python3.12/dist-packages/holoviews/examples/gallery/demos/matplotlib/dragon_curve.ipynb\n",
            "/usr/local/lib/python3.12/dist-packages/holoviews/examples/gallery/demos/matplotlib/iris_density_grid.ipynb\n",
            "/usr/local/lib/python3.12/dist-packages/holoviews/examples/gallery/demos/matplotlib/energy_sankey.ipynb\n",
            "/usr/local/lib/python3.12/dist-packages/holoviews/examples/gallery/demos/matplotlib/topographic_hillshading.ipynb\n",
            "/usr/local/lib/python3.12/dist-packages/holoviews/examples/gallery/demos/matplotlib/route_chord.ipynb\n",
            "/usr/local/lib/python3.12/dist-packages/holoviews/examples/gallery/demos/matplotlib/nyc_radial_heatmap.ipynb\n",
            "/usr/local/lib/python3.12/dist-packages/holoviews/examples/gallery/demos/matplotlib/quiver_demo.ipynb\n",
            "/usr/local/lib/python3.12/dist-packages/holoviews/examples/gallery/demos/matplotlib/autompg_violins.ipynb\n",
            "/usr/local/lib/python3.12/dist-packages/holoviews/examples/gallery/demos/matplotlib/directed_airline_routes.ipynb\n",
            "/usr/local/lib/python3.12/dist-packages/holoviews/examples/gallery/demos/matplotlib/area_chart.ipynb\n",
            "/usr/local/lib/python3.12/dist-packages/holoviews/examples/gallery/demos/matplotlib/square_limit.ipynb\n",
            "/usr/local/lib/python3.12/dist-packages/holoviews/examples/gallery/demos/matplotlib/hextile_movie_ratings.ipynb\n",
            "/usr/local/lib/python3.12/dist-packages/holoviews/examples/gallery/demos/matplotlib/us_unemployment.ipynb\n",
            "/usr/local/lib/python3.12/dist-packages/holoviews/examples/gallery/demos/matplotlib/trisurf3d_demo.ipynb\n",
            "/usr/local/lib/python3.12/dist-packages/holoviews/examples/gallery/demos/matplotlib/autompg_histogram.ipynb\n",
            "/usr/local/lib/python3.12/dist-packages/holoviews/examples/gallery/demos/bokeh/iris_grouped_grid.ipynb\n",
            "/usr/local/lib/python3.12/dist-packages/holoviews/examples/gallery/demos/bokeh/irregular_quadmesh.ipynb\n",
            "/usr/local/lib/python3.12/dist-packages/holoviews/examples/gallery/demos/bokeh/bars_economic.ipynb\n",
            "/usr/local/lib/python3.12/dist-packages/holoviews/examples/gallery/demos/bokeh/mandelbrot_section.ipynb\n",
            "/usr/local/lib/python3.12/dist-packages/holoviews/examples/gallery/demos/bokeh/boxplot_chart.ipynb\n",
            "/usr/local/lib/python3.12/dist-packages/holoviews/examples/gallery/demos/bokeh/step_chart.ipynb\n",
            "/usr/local/lib/python3.12/dist-packages/holoviews/examples/gallery/demos/bokeh/iris_splom_example.ipynb\n",
            "/usr/local/lib/python3.12/dist-packages/holoviews/examples/gallery/demos/bokeh/html_hover_tooltips.ipynb\n",
            "/usr/local/lib/python3.12/dist-packages/holoviews/examples/gallery/demos/bokeh/measles_example.ipynb\n",
            "/usr/local/lib/python3.12/dist-packages/holoviews/examples/gallery/demos/bokeh/iris_example.ipynb\n",
            "/usr/local/lib/python3.12/dist-packages/holoviews/examples/gallery/demos/bokeh/nyc_airport_connections.ipynb\n",
            "/usr/local/lib/python3.12/dist-packages/holoviews/examples/gallery/demos/bokeh/network_graph.ipynb\n",
            "/usr/local/lib/python3.12/dist-packages/holoviews/examples/gallery/demos/bokeh/lorenz_attractor_example.ipynb\n",
            "/usr/local/lib/python3.12/dist-packages/holoviews/examples/gallery/demos/bokeh/bachelors_degrees_by_gender.ipynb\n",
            "/usr/local/lib/python3.12/dist-packages/holoviews/examples/gallery/demos/bokeh/legend_example.ipynb\n",
            "/usr/local/lib/python3.12/dist-packages/holoviews/examples/gallery/demos/bokeh/scatter_economic.ipynb\n",
            "/usr/local/lib/python3.12/dist-packages/holoviews/examples/gallery/demos/bokeh/verhulst_mandelbrot.ipynb\n",
            "/usr/local/lib/python3.12/dist-packages/holoviews/examples/gallery/demos/bokeh/dropdown_economic.ipynb\n",
            "/usr/local/lib/python3.12/dist-packages/holoviews/examples/gallery/demos/bokeh/texas_choropleth_example.ipynb\n",
            "/usr/local/lib/python3.12/dist-packages/holoviews/examples/gallery/demos/bokeh/histogram_example.ipynb\n",
            "/usr/local/lib/python3.12/dist-packages/holoviews/examples/gallery/demos/bokeh/dot_example.ipynb\n",
            "/usr/local/lib/python3.12/dist-packages/holoviews/examples/gallery/demos/bokeh/stocks_example.ipynb\n",
            "/usr/local/lib/python3.12/dist-packages/holoviews/examples/gallery/demos/bokeh/dragon_curve.ipynb\n",
            "/usr/local/lib/python3.12/dist-packages/holoviews/examples/gallery/demos/bokeh/iris_density_grid.ipynb\n",
            "/usr/local/lib/python3.12/dist-packages/holoviews/examples/gallery/demos/bokeh/life_expectancy_split_violin.ipynb\n",
            "/usr/local/lib/python3.12/dist-packages/holoviews/examples/gallery/demos/bokeh/energy_sankey.ipynb\n",
            "/usr/local/lib/python3.12/dist-packages/holoviews/examples/gallery/demos/bokeh/timeseries_range_tool.ipynb\n",
            "/usr/local/lib/python3.12/dist-packages/holoviews/examples/gallery/demos/bokeh/box_draw_roi_editor.ipynb\n",
            "/usr/local/lib/python3.12/dist-packages/holoviews/examples/gallery/demos/bokeh/emoji_tsne.ipynb\n",
            "/usr/local/lib/python3.12/dist-packages/holoviews/examples/gallery/demos/bokeh/topographic_hillshading.ipynb\n",
            "/usr/local/lib/python3.12/dist-packages/holoviews/examples/gallery/demos/bokeh/route_chord.ipynb\n",
            "/usr/local/lib/python3.12/dist-packages/holoviews/examples/gallery/demos/bokeh/nyc_radial_heatmap.ipynb\n",
            "/usr/local/lib/python3.12/dist-packages/holoviews/examples/gallery/demos/bokeh/point_draw_triangulate.ipynb\n",
            "/usr/local/lib/python3.12/dist-packages/holoviews/examples/gallery/demos/bokeh/lesmis_example.ipynb\n",
            "/usr/local/lib/python3.12/dist-packages/holoviews/examples/gallery/demos/bokeh/quiver_demo.ipynb\n",
            "/usr/local/lib/python3.12/dist-packages/holoviews/examples/gallery/demos/bokeh/autompg_violins.ipynb\n",
            "/usr/local/lib/python3.12/dist-packages/holoviews/examples/gallery/demos/bokeh/directed_airline_routes.ipynb\n",
            "/usr/local/lib/python3.12/dist-packages/holoviews/examples/gallery/demos/bokeh/area_chart.ipynb\n",
            "/usr/local/lib/python3.12/dist-packages/holoviews/examples/gallery/demos/bokeh/image_range_tool.ipynb\n",
            "/usr/local/lib/python3.12/dist-packages/holoviews/examples/gallery/demos/bokeh/choropleth_data_link.ipynb\n",
            "/usr/local/lib/python3.12/dist-packages/holoviews/examples/gallery/demos/bokeh/square_limit.ipynb\n",
            "/usr/local/lib/python3.12/dist-packages/holoviews/examples/gallery/demos/bokeh/hextile_movie_ratings.ipynb\n",
            "/usr/local/lib/python3.12/dist-packages/holoviews/examples/gallery/demos/bokeh/us_unemployment.ipynb\n",
            "/usr/local/lib/python3.12/dist-packages/holoviews/examples/gallery/demos/bokeh/multichannel_timeseries_viewer.ipynb\n",
            "/usr/local/lib/python3.12/dist-packages/holoviews/examples/gallery/demos/bokeh/autompg_histogram.ipynb\n",
            "/usr/local/lib/python3.12/dist-packages/holoviews/examples/gallery/demos/plotly/surface_3d.ipynb\n",
            "/usr/local/lib/python3.12/dist-packages/holoviews/examples/gallery/demos/plotly/trisurf3d_demo.ipynb\n",
            "/usr/local/lib/python3.12/dist-packages/holoviews/examples/reference/elements/matplotlib/HSpan.ipynb\n",
            "/usr/local/lib/python3.12/dist-packages/holoviews/examples/reference/elements/matplotlib/Contours.ipynb\n",
            "/usr/local/lib/python3.12/dist-packages/holoviews/examples/reference/elements/matplotlib/Bars.ipynb\n",
            "/usr/local/lib/python3.12/dist-packages/holoviews/examples/reference/elements/matplotlib/TriSurface.ipynb\n",
            "/usr/local/lib/python3.12/dist-packages/holoviews/examples/reference/elements/matplotlib/Bivariate.ipynb\n",
            "/usr/local/lib/python3.12/dist-packages/holoviews/examples/reference/elements/matplotlib/Box.ipynb\n",
            "/usr/local/lib/python3.12/dist-packages/holoviews/examples/reference/elements/matplotlib/Violin.ipynb\n",
            "/usr/local/lib/python3.12/dist-packages/holoviews/examples/reference/elements/matplotlib/Distribution.ipynb\n",
            "/usr/local/lib/python3.12/dist-packages/holoviews/examples/reference/elements/matplotlib/Dendrogram.ipynb\n",
            "/usr/local/lib/python3.12/dist-packages/holoviews/examples/reference/elements/matplotlib/Curve.ipynb\n",
            "/usr/local/lib/python3.12/dist-packages/holoviews/examples/reference/elements/matplotlib/Slope.ipynb\n",
            "/usr/local/lib/python3.12/dist-packages/holoviews/examples/reference/elements/matplotlib/Spikes.ipynb\n",
            "/usr/local/lib/python3.12/dist-packages/holoviews/examples/reference/elements/matplotlib/HSV.ipynb\n",
            "/usr/local/lib/python3.12/dist-packages/holoviews/examples/reference/elements/matplotlib/ErrorBars.ipynb\n",
            "/usr/local/lib/python3.12/dist-packages/holoviews/examples/reference/elements/matplotlib/ItemTable.ipynb\n",
            "/usr/local/lib/python3.12/dist-packages/holoviews/examples/reference/elements/matplotlib/Spread.ipynb\n",
            "/usr/local/lib/python3.12/dist-packages/holoviews/examples/reference/elements/matplotlib/HexTiles.ipynb\n",
            "/usr/local/lib/python3.12/dist-packages/holoviews/examples/reference/elements/matplotlib/Histogram.ipynb\n",
            "/usr/local/lib/python3.12/dist-packages/holoviews/examples/reference/elements/matplotlib/Raster.ipynb\n",
            "/usr/local/lib/python3.12/dist-packages/holoviews/examples/reference/elements/matplotlib/TriMesh.ipynb\n",
            "/usr/local/lib/python3.12/dist-packages/holoviews/examples/reference/elements/matplotlib/VLines.ipynb\n",
            "/usr/local/lib/python3.12/dist-packages/holoviews/examples/reference/elements/matplotlib/Path.ipynb\n",
            "/usr/local/lib/python3.12/dist-packages/holoviews/examples/reference/elements/matplotlib/Bounds.ipynb\n",
            "/usr/local/lib/python3.12/dist-packages/holoviews/examples/reference/elements/matplotlib/ImageStack.ipynb\n",
            "/usr/local/lib/python3.12/dist-packages/holoviews/examples/reference/elements/matplotlib/HeatMap.ipynb\n",
            "/usr/local/lib/python3.12/dist-packages/holoviews/examples/reference/elements/matplotlib/Labels.ipynb\n",
            "/usr/local/lib/python3.12/dist-packages/holoviews/examples/reference/elements/matplotlib/Graph.ipynb\n",
            "/usr/local/lib/python3.12/dist-packages/holoviews/examples/reference/elements/matplotlib/Spline.ipynb\n",
            "/usr/local/lib/python3.12/dist-packages/holoviews/examples/reference/elements/matplotlib/Text.ipynb\n",
            "/usr/local/lib/python3.12/dist-packages/holoviews/examples/reference/elements/matplotlib/RadialHeatMap.ipynb\n",
            "/usr/local/lib/python3.12/dist-packages/holoviews/examples/reference/elements/matplotlib/Chord.ipynb\n",
            "/usr/local/lib/python3.12/dist-packages/holoviews/examples/reference/elements/matplotlib/Sankey.ipynb\n",
            "/usr/local/lib/python3.12/dist-packages/holoviews/examples/reference/elements/matplotlib/Ellipse.ipynb\n",
            "/usr/local/lib/python3.12/dist-packages/holoviews/examples/reference/elements/matplotlib/Scatter.ipynb\n",
            "/usr/local/lib/python3.12/dist-packages/holoviews/examples/reference/elements/matplotlib/VSpans.ipynb\n",
            "/usr/local/lib/python3.12/dist-packages/holoviews/examples/reference/elements/matplotlib/RGB.ipynb\n",
            "/usr/local/lib/python3.12/dist-packages/holoviews/examples/reference/elements/matplotlib/Rectangles.ipynb\n",
            "/usr/local/lib/python3.12/dist-packages/holoviews/examples/reference/elements/matplotlib/HLines.ipynb\n",
            "/usr/local/lib/python3.12/dist-packages/holoviews/examples/reference/elements/matplotlib/BoxWhisker.ipynb\n",
            "/usr/local/lib/python3.12/dist-packages/holoviews/examples/reference/elements/matplotlib/Polygons.ipynb\n",
            "/usr/local/lib/python3.12/dist-packages/holoviews/examples/reference/elements/matplotlib/Surface.ipynb\n",
            "/usr/local/lib/python3.12/dist-packages/holoviews/examples/reference/elements/matplotlib/HSpans.ipynb\n",
            "/usr/local/lib/python3.12/dist-packages/holoviews/examples/reference/elements/matplotlib/Scatter3D.ipynb\n",
            "/usr/local/lib/python3.12/dist-packages/holoviews/examples/reference/elements/matplotlib/Points.ipynb\n",
            "/usr/local/lib/python3.12/dist-packages/holoviews/examples/reference/elements/matplotlib/Table.ipynb\n",
            "/usr/local/lib/python3.12/dist-packages/holoviews/examples/reference/elements/matplotlib/QuadMesh.ipynb\n",
            "/usr/local/lib/python3.12/dist-packages/holoviews/examples/reference/elements/matplotlib/Path3D.ipynb\n",
            "/usr/local/lib/python3.12/dist-packages/holoviews/examples/reference/elements/matplotlib/VectorField.ipynb\n",
            "/usr/local/lib/python3.12/dist-packages/holoviews/examples/reference/elements/matplotlib/VLine.ipynb\n",
            "/usr/local/lib/python3.12/dist-packages/holoviews/examples/reference/elements/matplotlib/Image.ipynb\n",
            "/usr/local/lib/python3.12/dist-packages/holoviews/examples/reference/elements/matplotlib/Segments.ipynb\n",
            "/usr/local/lib/python3.12/dist-packages/holoviews/examples/reference/elements/matplotlib/VSpan.ipynb\n",
            "/usr/local/lib/python3.12/dist-packages/holoviews/examples/reference/elements/matplotlib/Arrow.ipynb\n",
            "/usr/local/lib/python3.12/dist-packages/holoviews/examples/reference/elements/matplotlib/Area.ipynb\n",
            "/usr/local/lib/python3.12/dist-packages/holoviews/examples/reference/elements/matplotlib/HLine.ipynb\n",
            "/usr/local/lib/python3.12/dist-packages/holoviews/examples/reference/elements/bokeh/HSpan.ipynb\n",
            "/usr/local/lib/python3.12/dist-packages/holoviews/examples/reference/elements/bokeh/Contours.ipynb\n",
            "/usr/local/lib/python3.12/dist-packages/holoviews/examples/reference/elements/bokeh/Bars.ipynb\n",
            "/usr/local/lib/python3.12/dist-packages/holoviews/examples/reference/elements/bokeh/Tiles.ipynb\n",
            "/usr/local/lib/python3.12/dist-packages/holoviews/examples/reference/elements/bokeh/Bivariate.ipynb\n",
            "/usr/local/lib/python3.12/dist-packages/holoviews/examples/reference/elements/bokeh/Box.ipynb\n",
            "/usr/local/lib/python3.12/dist-packages/holoviews/examples/reference/elements/bokeh/Violin.ipynb\n",
            "/usr/local/lib/python3.12/dist-packages/holoviews/examples/reference/elements/bokeh/Distribution.ipynb\n",
            "/usr/local/lib/python3.12/dist-packages/holoviews/examples/reference/elements/bokeh/Dendrogram.ipynb\n",
            "/usr/local/lib/python3.12/dist-packages/holoviews/examples/reference/elements/bokeh/Curve.ipynb\n",
            "/usr/local/lib/python3.12/dist-packages/holoviews/examples/reference/elements/bokeh/Slope.ipynb\n",
            "/usr/local/lib/python3.12/dist-packages/holoviews/examples/reference/elements/bokeh/Spikes.ipynb\n",
            "/usr/local/lib/python3.12/dist-packages/holoviews/examples/reference/elements/bokeh/HSV.ipynb\n",
            "/usr/local/lib/python3.12/dist-packages/holoviews/examples/reference/elements/bokeh/ErrorBars.ipynb\n",
            "/usr/local/lib/python3.12/dist-packages/holoviews/examples/reference/elements/bokeh/ItemTable.ipynb\n",
            "/usr/local/lib/python3.12/dist-packages/holoviews/examples/reference/elements/bokeh/Spread.ipynb\n",
            "/usr/local/lib/python3.12/dist-packages/holoviews/examples/reference/elements/bokeh/HexTiles.ipynb\n",
            "/usr/local/lib/python3.12/dist-packages/holoviews/examples/reference/elements/bokeh/Histogram.ipynb\n",
            "/usr/local/lib/python3.12/dist-packages/holoviews/examples/reference/elements/bokeh/Raster.ipynb\n",
            "/usr/local/lib/python3.12/dist-packages/holoviews/examples/reference/elements/bokeh/TriMesh.ipynb\n",
            "/usr/local/lib/python3.12/dist-packages/holoviews/examples/reference/elements/bokeh/VLines.ipynb\n",
            "/usr/local/lib/python3.12/dist-packages/holoviews/examples/reference/elements/bokeh/Path.ipynb\n",
            "/usr/local/lib/python3.12/dist-packages/holoviews/examples/reference/elements/bokeh/Bounds.ipynb\n",
            "/usr/local/lib/python3.12/dist-packages/holoviews/examples/reference/elements/bokeh/ImageStack.ipynb\n",
            "/usr/local/lib/python3.12/dist-packages/holoviews/examples/reference/elements/bokeh/HeatMap.ipynb\n",
            "/usr/local/lib/python3.12/dist-packages/holoviews/examples/reference/elements/bokeh/Labels.ipynb\n",
            "/usr/local/lib/python3.12/dist-packages/holoviews/examples/reference/elements/bokeh/Graph.ipynb\n",
            "/usr/local/lib/python3.12/dist-packages/holoviews/examples/reference/elements/bokeh/Spline.ipynb\n",
            "/usr/local/lib/python3.12/dist-packages/holoviews/examples/reference/elements/bokeh/Text.ipynb\n",
            "/usr/local/lib/python3.12/dist-packages/holoviews/examples/reference/elements/bokeh/Div.ipynb\n",
            "/usr/local/lib/python3.12/dist-packages/holoviews/examples/reference/elements/bokeh/RadialHeatMap.ipynb\n",
            "/usr/local/lib/python3.12/dist-packages/holoviews/examples/reference/elements/bokeh/Chord.ipynb\n",
            "/usr/local/lib/python3.12/dist-packages/holoviews/examples/reference/elements/bokeh/Sankey.ipynb\n",
            "/usr/local/lib/python3.12/dist-packages/holoviews/examples/reference/elements/bokeh/Ellipse.ipynb\n",
            "/usr/local/lib/python3.12/dist-packages/holoviews/examples/reference/elements/bokeh/Scatter.ipynb\n",
            "/usr/local/lib/python3.12/dist-packages/holoviews/examples/reference/elements/bokeh/VSpans.ipynb\n",
            "/usr/local/lib/python3.12/dist-packages/holoviews/examples/reference/elements/bokeh/RGB.ipynb\n",
            "/usr/local/lib/python3.12/dist-packages/holoviews/examples/reference/elements/bokeh/Rectangles.ipynb\n",
            "/usr/local/lib/python3.12/dist-packages/holoviews/examples/reference/elements/bokeh/HLines.ipynb\n",
            "/usr/local/lib/python3.12/dist-packages/holoviews/examples/reference/elements/bokeh/BoxWhisker.ipynb\n",
            "/usr/local/lib/python3.12/dist-packages/holoviews/examples/reference/elements/bokeh/Polygons.ipynb\n",
            "/usr/local/lib/python3.12/dist-packages/holoviews/examples/reference/elements/bokeh/HSpans.ipynb\n",
            "/usr/local/lib/python3.12/dist-packages/holoviews/examples/reference/elements/bokeh/Points.ipynb\n",
            "/usr/local/lib/python3.12/dist-packages/holoviews/examples/reference/elements/bokeh/Table.ipynb\n",
            "/usr/local/lib/python3.12/dist-packages/holoviews/examples/reference/elements/bokeh/QuadMesh.ipynb\n",
            "/usr/local/lib/python3.12/dist-packages/holoviews/examples/reference/elements/bokeh/VectorField.ipynb\n",
            "/usr/local/lib/python3.12/dist-packages/holoviews/examples/reference/elements/bokeh/VLine.ipynb\n",
            "/usr/local/lib/python3.12/dist-packages/holoviews/examples/reference/elements/bokeh/Image.ipynb\n",
            "/usr/local/lib/python3.12/dist-packages/holoviews/examples/reference/elements/bokeh/Segments.ipynb\n",
            "/usr/local/lib/python3.12/dist-packages/holoviews/examples/reference/elements/bokeh/VSpan.ipynb\n",
            "/usr/local/lib/python3.12/dist-packages/holoviews/examples/reference/elements/bokeh/Arrow.ipynb\n",
            "/usr/local/lib/python3.12/dist-packages/holoviews/examples/reference/elements/bokeh/Area.ipynb\n",
            "/usr/local/lib/python3.12/dist-packages/holoviews/examples/reference/elements/bokeh/HLine.ipynb\n",
            "/usr/local/lib/python3.12/dist-packages/holoviews/examples/reference/elements/plotly/HSpan.ipynb\n",
            "/usr/local/lib/python3.12/dist-packages/holoviews/examples/reference/elements/plotly/Bars.ipynb\n",
            "/usr/local/lib/python3.12/dist-packages/holoviews/examples/reference/elements/plotly/TriSurface.ipynb\n",
            "/usr/local/lib/python3.12/dist-packages/holoviews/examples/reference/elements/plotly/Tiles.ipynb\n",
            "/usr/local/lib/python3.12/dist-packages/holoviews/examples/reference/elements/plotly/Box.ipynb\n",
            "/usr/local/lib/python3.12/dist-packages/holoviews/examples/reference/elements/plotly/Violin.ipynb\n",
            "/usr/local/lib/python3.12/dist-packages/holoviews/examples/reference/elements/plotly/Distribution.ipynb\n",
            "/usr/local/lib/python3.12/dist-packages/holoviews/examples/reference/elements/plotly/Curve.ipynb\n",
            "/usr/local/lib/python3.12/dist-packages/holoviews/examples/reference/elements/plotly/ErrorBars.ipynb\n",
            "/usr/local/lib/python3.12/dist-packages/holoviews/examples/reference/elements/plotly/ItemTable.ipynb\n",
            "/usr/local/lib/python3.12/dist-packages/holoviews/examples/reference/elements/plotly/Spread.ipynb\n",
            "/usr/local/lib/python3.12/dist-packages/holoviews/examples/reference/elements/plotly/Histogram.ipynb\n",
            "/usr/local/lib/python3.12/dist-packages/holoviews/examples/reference/elements/plotly/Raster.ipynb\n",
            "/usr/local/lib/python3.12/dist-packages/holoviews/examples/reference/elements/plotly/Bounds.ipynb\n",
            "/usr/local/lib/python3.12/dist-packages/holoviews/examples/reference/elements/plotly/ImageStack.ipynb\n",
            "/usr/local/lib/python3.12/dist-packages/holoviews/examples/reference/elements/plotly/HeatMap.ipynb\n",
            "/usr/local/lib/python3.12/dist-packages/holoviews/examples/reference/elements/plotly/Ellipse.ipynb\n",
            "/usr/local/lib/python3.12/dist-packages/holoviews/examples/reference/elements/plotly/Scatter.ipynb\n",
            "/usr/local/lib/python3.12/dist-packages/holoviews/examples/reference/elements/plotly/RGB.ipynb\n",
            "/usr/local/lib/python3.12/dist-packages/holoviews/examples/reference/elements/plotly/BoxWhisker.ipynb\n",
            "/usr/local/lib/python3.12/dist-packages/holoviews/examples/reference/elements/plotly/Surface.ipynb\n",
            "/usr/local/lib/python3.12/dist-packages/holoviews/examples/reference/elements/plotly/Scatter3D.ipynb\n",
            "/usr/local/lib/python3.12/dist-packages/holoviews/examples/reference/elements/plotly/Points.ipynb\n",
            "/usr/local/lib/python3.12/dist-packages/holoviews/examples/reference/elements/plotly/Table.ipynb\n",
            "/usr/local/lib/python3.12/dist-packages/holoviews/examples/reference/elements/plotly/Path3D.ipynb\n",
            "/usr/local/lib/python3.12/dist-packages/holoviews/examples/reference/elements/plotly/VLine.ipynb\n",
            "/usr/local/lib/python3.12/dist-packages/holoviews/examples/reference/elements/plotly/Image.ipynb\n",
            "/usr/local/lib/python3.12/dist-packages/holoviews/examples/reference/elements/plotly/VSpan.ipynb\n",
            "/usr/local/lib/python3.12/dist-packages/holoviews/examples/reference/elements/plotly/Area.ipynb\n",
            "/usr/local/lib/python3.12/dist-packages/holoviews/examples/reference/elements/plotly/HLine.ipynb\n",
            "/usr/local/lib/python3.12/dist-packages/holoviews/examples/reference/containers/matplotlib/HoloMap.ipynb\n",
            "/usr/local/lib/python3.12/dist-packages/holoviews/examples/reference/containers/matplotlib/GridSpace.ipynb\n",
            "/usr/local/lib/python3.12/dist-packages/holoviews/examples/reference/containers/matplotlib/Overlay.ipynb\n",
            "/usr/local/lib/python3.12/dist-packages/holoviews/examples/reference/containers/matplotlib/Layout.ipynb\n",
            "/usr/local/lib/python3.12/dist-packages/holoviews/examples/reference/containers/matplotlib/DynamicMap.ipynb\n",
            "/usr/local/lib/python3.12/dist-packages/holoviews/examples/reference/containers/matplotlib/NdLayout.ipynb\n",
            "/usr/local/lib/python3.12/dist-packages/holoviews/examples/reference/containers/matplotlib/NdOverlay.ipynb\n",
            "/usr/local/lib/python3.12/dist-packages/holoviews/examples/reference/containers/bokeh/HoloMap.ipynb\n",
            "/usr/local/lib/python3.12/dist-packages/holoviews/examples/reference/containers/bokeh/GridSpace.ipynb\n",
            "/usr/local/lib/python3.12/dist-packages/holoviews/examples/reference/containers/bokeh/Overlay.ipynb\n",
            "/usr/local/lib/python3.12/dist-packages/holoviews/examples/reference/containers/bokeh/Layout.ipynb\n",
            "/usr/local/lib/python3.12/dist-packages/holoviews/examples/reference/containers/bokeh/DynamicMap.ipynb\n",
            "/usr/local/lib/python3.12/dist-packages/holoviews/examples/reference/containers/bokeh/NdLayout.ipynb\n",
            "/usr/local/lib/python3.12/dist-packages/holoviews/examples/reference/containers/bokeh/NdOverlay.ipynb\n",
            "/usr/local/lib/python3.12/dist-packages/holoviews/examples/reference/containers/plotly/HoloMap.ipynb\n",
            "/usr/local/lib/python3.12/dist-packages/holoviews/examples/reference/containers/plotly/GridSpace.ipynb\n",
            "/usr/local/lib/python3.12/dist-packages/holoviews/examples/reference/containers/plotly/Overlay.ipynb\n",
            "/usr/local/lib/python3.12/dist-packages/holoviews/examples/reference/containers/plotly/Layout.ipynb\n",
            "/usr/local/lib/python3.12/dist-packages/holoviews/examples/reference/containers/plotly/DynamicMap.ipynb\n",
            "/usr/local/lib/python3.12/dist-packages/holoviews/examples/reference/containers/plotly/NdLayout.ipynb\n",
            "/usr/local/lib/python3.12/dist-packages/holoviews/examples/reference/containers/plotly/NdOverlay.ipynb\n",
            "/usr/local/lib/python3.12/dist-packages/holoviews/examples/reference/features/bokeh/Scalebar.ipynb\n",
            "/usr/local/lib/python3.12/dist-packages/holoviews/examples/reference/streams/bokeh/FreehandDraw.ipynb\n",
            "/usr/local/lib/python3.12/dist-packages/holoviews/examples/reference/streams/bokeh/Selection1D_paired.ipynb\n",
            "/usr/local/lib/python3.12/dist-packages/holoviews/examples/reference/streams/bokeh/Selection1D_tap.ipynb\n",
            "/usr/local/lib/python3.12/dist-packages/holoviews/examples/reference/streams/bokeh/Selection1D_points.ipynb\n",
            "/usr/local/lib/python3.12/dist-packages/holoviews/examples/reference/streams/bokeh/Selection1D.ipynb\n",
            "/usr/local/lib/python3.12/dist-packages/holoviews/examples/reference/streams/bokeh/BoundsY.ipynb\n",
            "/usr/local/lib/python3.12/dist-packages/holoviews/examples/reference/streams/bokeh/PolyEdit.ipynb\n",
            "/usr/local/lib/python3.12/dist-packages/holoviews/examples/reference/streams/bokeh/PointDraw.ipynb\n",
            "/usr/local/lib/python3.12/dist-packages/holoviews/examples/reference/streams/bokeh/Bounds.ipynb\n",
            "/usr/local/lib/python3.12/dist-packages/holoviews/examples/reference/streams/bokeh/PolyDraw.ipynb\n",
            "/usr/local/lib/python3.12/dist-packages/holoviews/examples/reference/streams/bokeh/PointerX.ipynb\n",
            "/usr/local/lib/python3.12/dist-packages/holoviews/examples/reference/streams/bokeh/RangeXY.ipynb\n",
            "/usr/local/lib/python3.12/dist-packages/holoviews/examples/reference/streams/bokeh/PointerXY.ipynb\n",
            "/usr/local/lib/python3.12/dist-packages/holoviews/examples/reference/streams/bokeh/BoxEdit.ipynb\n",
            "/usr/local/lib/python3.12/dist-packages/holoviews/examples/reference/streams/bokeh/BoundsX.ipynb\n",
            "/usr/local/lib/python3.12/dist-packages/holoviews/examples/reference/streams/bokeh/CurveEdit.ipynb\n",
            "/usr/local/lib/python3.12/dist-packages/holoviews/examples/reference/streams/bokeh/Tap.ipynb\n",
            "/usr/local/lib/python3.12/dist-packages/holoviews/examples/reference/streams/plotly/Selection1D_paired.ipynb\n",
            "/usr/local/lib/python3.12/dist-packages/holoviews/examples/reference/streams/plotly/Selection1D_points.ipynb\n",
            "/usr/local/lib/python3.12/dist-packages/holoviews/examples/reference/streams/plotly/BoundsY.ipynb\n",
            "/usr/local/lib/python3.12/dist-packages/holoviews/examples/reference/streams/plotly/Bounds.ipynb\n",
            "/usr/local/lib/python3.12/dist-packages/holoviews/examples/reference/streams/plotly/RangeXY.ipynb\n",
            "/usr/local/lib/python3.12/dist-packages/holoviews/examples/reference/streams/plotly/BoundsX.ipynb\n",
            "/usr/local/lib/python3.12/dist-packages/wasabi/tests/test-data/wasabi-test-notebook.ipynb\n"
          ]
        }
      ]
    },
    {
      "cell_type": "code",
      "source": [
        "# comentariol"
      ],
      "metadata": {
        "id": "i78EhUa6QN1L"
      },
      "execution_count": 4,
      "outputs": []
    },
    {
      "cell_type": "code",
      "source": [
        "\"\"\"\n",
        "lectura de variable por teclado\n",
        "y conversion de tipo numerico para operar\n",
        "\n",
        "\"\"\"\n",
        "num = input(\"Dame un numero\")\n",
        "print(\"Tu numero es\", num)\n",
        "print(\"Tu numero multiplicado por 5 es\", num*5)\n",
        "\"\"\"\n",
        "lo convertimos a entero\n",
        "\"\"\"\n",
        "num = int(num)\n",
        "print(\"Tu numero multiplicado por 5 es\", num*5)"
      ],
      "metadata": {
        "colab": {
          "base_uri": "https://localhost:8080/"
        },
        "id": "zEwBabU_QTLj",
        "outputId": "fc8c1ba3-ca8b-4d7f-9d5a-5452968ae7dd"
      },
      "execution_count": 6,
      "outputs": [
        {
          "output_type": "stream",
          "name": "stdout",
          "text": [
            "Dame un numero4\n",
            "Tu numero es 4\n",
            "Tu numero multiplicado por 5 es 44444\n",
            "Tu numero multiplicado por 5 es 20\n"
          ]
        }
      ]
    },
    {
      "cell_type": "code",
      "source": [
        "type (num)"
      ],
      "metadata": {
        "colab": {
          "base_uri": "https://localhost:8080/"
        },
        "id": "qW_q4k-PRwvC",
        "outputId": "9889e3eb-440f-4cc7-ed0a-e84bdf256103"
      },
      "execution_count": 7,
      "outputs": [
        {
          "output_type": "execute_result",
          "data": {
            "text/plain": [
              "int"
            ]
          },
          "metadata": {},
          "execution_count": 7
        }
      ]
    },
    {
      "cell_type": "code",
      "source": [
        "num = 10//3\n",
        "type (num)"
      ],
      "metadata": {
        "colab": {
          "base_uri": "https://localhost:8080/"
        },
        "id": "s_np2VXJR3di",
        "outputId": "df923d3f-6a58-40ec-c79c-361bfac136ea"
      },
      "execution_count": 8,
      "outputs": [
        {
          "output_type": "execute_result",
          "data": {
            "text/plain": [
              "int"
            ]
          },
          "metadata": {},
          "execution_count": 8
        }
      ]
    },
    {
      "cell_type": "code",
      "source": [
        "print (num)"
      ],
      "metadata": {
        "colab": {
          "base_uri": "https://localhost:8080/"
        },
        "id": "mF5ObbdMSCCB",
        "outputId": "d9e3ea29-2bf8-4a27-9131-6b831a4cb0b0"
      },
      "execution_count": 9,
      "outputs": [
        {
          "output_type": "stream",
          "name": "stdout",
          "text": [
            "3\n"
          ]
        }
      ]
    },
    {
      "cell_type": "code",
      "source": [
        "num = 10/3\n",
        "print(num)\n",
        "type(num)"
      ],
      "metadata": {
        "colab": {
          "base_uri": "https://localhost:8080/"
        },
        "id": "XijtLwppSGb5",
        "outputId": "9445346e-f831-4e25-d83e-e6952a589148"
      },
      "execution_count": 10,
      "outputs": [
        {
          "output_type": "stream",
          "name": "stdout",
          "text": [
            "3.3333333333333335\n"
          ]
        },
        {
          "output_type": "execute_result",
          "data": {
            "text/plain": [
              "float"
            ]
          },
          "metadata": {},
          "execution_count": 10
        }
      ]
    },
    {
      "cell_type": "code",
      "source": [
        "num = 10%3\n",
        "print(num)"
      ],
      "metadata": {
        "colab": {
          "base_uri": "https://localhost:8080/"
        },
        "id": "Yu8ir_ZrSYkz",
        "outputId": "84e088f6-c62b-4b69-d22c-74d308602365"
      },
      "execution_count": 11,
      "outputs": [
        {
          "output_type": "stream",
          "name": "stdout",
          "text": [
            "1\n"
          ]
        }
      ]
    },
    {
      "cell_type": "code",
      "source": [
        "nombre = \"Alexis\"\n",
        "print(nombre)\n",
        "type(nombre)"
      ],
      "metadata": {
        "colab": {
          "base_uri": "https://localhost:8080/"
        },
        "id": "gJr_ZmcXSg5J",
        "outputId": "1bb1757a-0027-4376-8a59-512db4f94dff"
      },
      "execution_count": 12,
      "outputs": [
        {
          "output_type": "stream",
          "name": "stdout",
          "text": [
            "Alexis\n"
          ]
        },
        {
          "output_type": "execute_result",
          "data": {
            "text/plain": [
              "str"
            ]
          },
          "metadata": {},
          "execution_count": 12
        }
      ]
    },
    {
      "cell_type": "code",
      "source": [
        "num = int(input(\"Dame un numero\"))\n",
        "mayor = (10>num)\n",
        "print(mayor)\n",
        "type(mayor)"
      ],
      "metadata": {
        "colab": {
          "base_uri": "https://localhost:8080/"
        },
        "id": "AVdrVfPySsnZ",
        "outputId": "2b6187bd-0970-4b67-a86a-1d141f7a62e0"
      },
      "execution_count": 13,
      "outputs": [
        {
          "output_type": "stream",
          "name": "stdout",
          "text": [
            "Dame un numero5\n",
            "True\n"
          ]
        },
        {
          "output_type": "execute_result",
          "data": {
            "text/plain": [
              "bool"
            ]
          },
          "metadata": {},
          "execution_count": 13
        }
      ]
    },
    {
      "cell_type": "code",
      "source": [],
      "metadata": {
        "id": "4xTqLhaCUNzx"
      },
      "execution_count": null,
      "outputs": []
    }
  ],
  "metadata": {
    "colab": {
      "name": "Te damos la bienvenida a Colaboratory",
      "provenance": [],
      "include_colab_link": true
    },
    "kernelspec": {
      "display_name": "Python 3",
      "name": "python3"
    }
  },
  "nbformat": 4,
  "nbformat_minor": 0
}